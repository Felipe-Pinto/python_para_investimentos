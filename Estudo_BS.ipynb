{
  "nbformat": 4,
  "nbformat_minor": 0,
  "metadata": {
    "colab": {
      "provenance": [],
      "authorship_tag": "ABX9TyOjaMd7DItOWuMN/X6NMug0",
      "include_colab_link": true
    },
    "kernelspec": {
      "name": "python3",
      "display_name": "Python 3"
    },
    "language_info": {
      "name": "python"
    }
  },
  "cells": [
    {
      "cell_type": "markdown",
      "metadata": {
        "id": "view-in-github",
        "colab_type": "text"
      },
      "source": [
        "<a href=\"https://colab.research.google.com/github/Felipe-Pinto/python_para_investimentos/blob/master/Estudo_BS.ipynb\" target=\"_parent\"><img src=\"https://colab.research.google.com/assets/colab-badge.svg\" alt=\"Open In Colab\"/></a>"
      ]
    },
    {
      "cell_type": "code",
      "execution_count": 1,
      "metadata": {
        "id": "cTYVJAgFv-YK"
      },
      "outputs": [],
      "source": [
        "# Implementation of Black-Scholes formula in Python\n",
        "import numpy as np\n",
        "import matplotlib.pyplot as plt\n",
        "from scipy.stats import norm"
      ]
    },
    {
      "cell_type": "markdown",
      "source": [
        "# Definições"
      ],
      "metadata": {
        "id": "zg4LAzYUwtxz"
      }
    },
    {
      "cell_type": "code",
      "source": [
        "def BlackScholes(r, S, K, T, sigma, type=\"c\"):\n",
        "    \"Calculate BS price of call/put\"\n",
        "    d1 = (np.log(S/K) + (r + sigma**2/2)*T)/(sigma*np.sqrt(T))\n",
        "    d2 = d1 - sigma*np.sqrt(T)\n",
        "    try:\n",
        "        if type == \"c\":\n",
        "            price = S*norm.cdf(d1, 0, 1) - K*np.exp(-r*T)*norm.cdf(d2, 0, 1)\n",
        "        elif type == \"p\":\n",
        "            price = K*np.exp(-r*T)*norm.cdf(-d2, 0, 1) - S*norm.cdf(-d1, 0, 1)\n",
        "        return price\n",
        "    except:\n",
        "        print(\"Please confirm option type, either 'c' for Call or 'p' for Put!\")"
      ],
      "metadata": {
        "id": "WZ-P2tBbwjq6"
      },
      "execution_count": 2,
      "outputs": []
    },
    {
      "cell_type": "code",
      "source": [
        "def delta(r, S, K, T, sigma, type=\"c\"):\n",
        "    \"Calculate delta of an option\"\n",
        "    d1 = (np.log(S/K) + (r + sigma**2/2)*T)/(sigma*np.sqrt(T))\n",
        "    try:\n",
        "        if type == \"c\":\n",
        "            delta = norm.cdf(d1, 0, 1)\n",
        "        elif type == \"p\":\n",
        "            delta = -norm.cdf(-d1, 0, 1)\n",
        "        return delta\n",
        "    except:\n",
        "        print(\"Please confirm option type, either 'c' for Call or 'p' for Put!\")"
      ],
      "metadata": {
        "id": "5-trOkK3wjgP"
      },
      "execution_count": 4,
      "outputs": []
    },
    {
      "cell_type": "code",
      "source": [
        "def gamma(r, S, K, T, sigma, type=\"c\"):\n",
        "    \"Calculate gamma of a option\"\n",
        "    d1 = (np.log(S/K) + (r + sigma**2/2)*T)/(sigma*np.sqrt(T))\n",
        "    d2 = d1 - sigma*np.sqrt(T)\n",
        "    try:\n",
        "        gamma = norm.pdf(d1, 0, 1)/(S*sigma*np.sqrt(T))\n",
        "        return gamma\n",
        "    except:\n",
        "        print(\"Please confirm option type, either 'c' for Call or 'p' for Put!\")"
      ],
      "metadata": {
        "id": "BusB0Pmsw6dX"
      },
      "execution_count": 5,
      "outputs": []
    },
    {
      "cell_type": "code",
      "source": [
        "def vega(r, S, K, T, sigma, type=\"c\"):\n",
        "    \"Calculate BS price of call/put\"\n",
        "    d1 = (np.log(S/K) + (r + sigma**2/2)*T)/(sigma*np.sqrt(T))\n",
        "    d2 = d1 - sigma*np.sqrt(T)\n",
        "    try:\n",
        "        vega = S*norm.pdf(d1, 0, 1)*np.sqrt(T)\n",
        "        return vega*0.01\n",
        "    except:\n",
        "        print(\"Please confirm option type, either 'c' for Call or 'p' for Put!\")"
      ],
      "metadata": {
        "id": "xPr1Ebixxfsu"
      },
      "execution_count": 6,
      "outputs": []
    },
    {
      "cell_type": "code",
      "source": [
        "def theta(r, S, K, T, sigma, type=\"c\"):\n",
        "    \"Calculate BS price of call/put\"\n",
        "    d1 = (np.log(S/K) + (r + sigma**2/2)*T)/(sigma*np.sqrt(T))\n",
        "    d2 = d1 - sigma*np.sqrt(T)\n",
        "    try:\n",
        "        if type == \"c\":\n",
        "            theta = -S*norm.pdf(d1, 0, 1)*sigma/(2*np.sqrt(T)) - r*K*np.exp(-r*T)*norm.cdf(d2, 0, 1)\n",
        "        elif type == \"p\":\n",
        "            theta = -S*norm.pdf(d1, 0, 1)*sigma/(2*np.sqrt(T)) + r*K*np.exp(-r*T)*norm.cdf(-d2, 0, 1)\n",
        "        return theta/365\n",
        "    except:\n",
        "        print(\"Please confirm option type, either 'c' for Call or 'p' for Put!\")"
      ],
      "metadata": {
        "id": "qvAgP-7exYDR"
      },
      "execution_count": 7,
      "outputs": []
    },
    {
      "cell_type": "code",
      "source": [
        "def rho(r, S, K, T, sigma, type=\"c\"):\n",
        "    \"Calculate BS price of call/put\"\n",
        "    d1 = (np.log(S/K) + (r + sigma**2/2)*T)/(sigma*np.sqrt(T))\n",
        "    d2 = d1 - sigma*np.sqrt(T)\n",
        "    try:\n",
        "        if type == \"c\":\n",
        "            rho = K*T*np.exp(-r*T)*norm.cdf(d2, 0, 1)\n",
        "        elif type == \"p\":\n",
        "            rho = -K*T*np.exp(-r*T)*norm.cdf(-d2, 0, 1)\n",
        "        return rho*0.01\n",
        "    except:\n",
        "        print(\"Please confirm option type, either 'c' for Call or 'p' for Put!\")"
      ],
      "metadata": {
        "id": "wRz8Ng6gxuVm"
      },
      "execution_count": 9,
      "outputs": []
    },
    {
      "cell_type": "code",
      "source": [
        "r = 0.125       # Interest tax\n",
        "#S = 97          # Stock\n",
        "K = 100         # Stirke\n",
        "#T = 1/252      # Time to end\n",
        "sigma = 0.60    # Volatility\n",
        "type=\"c\"\n",
        "S = np.linspace(75,125,100)\n",
        "T = 0.2/252"
      ],
      "metadata": {
        "id": "8AHHE4_Ow6L9"
      },
      "execution_count": 20,
      "outputs": []
    },
    {
      "cell_type": "code",
      "source": [
        "bs = BlackScholes(r, S, K, T, sigma, type)\n",
        "d =  delta(r, S, K, T, sigma,\"c\")\n",
        "v = vega(r, S, K, T, sigma, type=\"c\")\n",
        "t = theta(r, S, K, T, sigma, type=\"c\")\n",
        "r0 = rho(r, S, K, T, sigma, type=\"c\")"
      ],
      "metadata": {
        "id": "oRp3Rge9yJRl"
      },
      "execution_count": 21,
      "outputs": []
    },
    {
      "cell_type": "code",
      "source": [
        "# Gerar o gráfico\n",
        "plt.plot(S,bs)\n",
        "plt.axvline(x=K,ymin=0,ymax=10.0, color='b', linestyle='dashed',linewidth=1)\n",
        "plt.grid()\n",
        "plt.xlabel('Ativo')\n",
        "plt.ylabel('Prêmio')\n",
        "plt.show()"
      ],
      "metadata": {
        "colab": {
          "base_uri": "https://localhost:8080/",
          "height": 449
        },
        "id": "w55ocfpGx1lG",
        "outputId": "95a5b4d6-7792-49bb-c2aa-9940103da0b3"
      },
      "execution_count": 22,
      "outputs": [
        {
          "output_type": "display_data",
          "data": {
            "text/plain": [
              "<Figure size 640x480 with 1 Axes>"
            ],
            "image/png": "[encoded data removed]"
          },
          "metadata": {}
        }
      ]
    }
  ]
}