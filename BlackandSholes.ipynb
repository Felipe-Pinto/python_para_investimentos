{
  "nbformat": 4,
  "nbformat_minor": 0,
  "metadata": {
    "colab": {
      "provenance": [],
      "authorship_tag": "ABX9TyPC2lR6gydm43jg52LhEe9u",
      "include_colab_link": true
    },
    "kernelspec": {
      "name": "python3",
      "display_name": "Python 3"
    },
    "language_info": {
      "name": "python"
    }
  },
  "cells": [
    {
      "cell_type": "markdown",
      "metadata": {
        "id": "view-in-github",
        "colab_type": "text"
      },
      "source": [
        "<a href=\"https://colab.research.google.com/github/Felipe-Pinto/python_para_investimentos/blob/master/BlackandSholes.ipynb\" target=\"_parent\"><img src=\"https://colab.research.google.com/assets/colab-badge.svg\" alt=\"Open In Colab\"/></a>"
      ]
    },
    {
      "cell_type": "code",
      "execution_count": null,
      "metadata": {
        "id": "vdub-LHeJEtK"
      },
      "outputs": [],
      "source": [
        "!pip install py_vollib\n",
        "from py_vollib.black_scholes import black_scholes as bs\n",
        "from py_vollib.black_scholes.greeks.analytical import delta, gamma, vega, theta, rho"
      ]
    },
    {
      "cell_type": "code",
      "source": [
        "# Implementation of Black-Scholes formula in Python\n",
        "import numpy as np\n",
        "import matplotlib.pyplot as plt\n",
        "from scipy.stats import norm\n",
        "from py_vollib.black_scholes import black_scholes as bs\n",
        "from py_vollib.black_scholes.greeks.analytical import delta, gamma, vega, theta, rho\n",
        "\n",
        "# Define variables\n",
        "r = 0.125       # Interest tax\n",
        "S = 97         # Stock\n",
        "K = 100         # Stirke\n",
        "T = 28/252    # Time to end\n",
        "sigma = 0.60   # Volatility\n",
        "\n",
        "def blackScholes(r, S, K, T, sigma, type=\"c\"):\n",
        "    \"Calculate BS price of call/put\"\n",
        "    d1 = (np.log(S/K) + (r + sigma**2/2)*T)/(sigma*np.sqrt(T))\n",
        "    d2 = d1 - sigma*np.sqrt(T)\n",
        "    try:\n",
        "        if type == \"c\":\n",
        "            price = S*norm.cdf(d1, 0, 1) - K*np.exp(-r*T)*norm.cdf(d2, 0, 1)\n",
        "        elif type == \"p\":\n",
        "            price = K*np.exp(-r*T)*norm.cdf(-d2, 0, 1) - S*norm.cdf(-d1, 0, 1)\n",
        "        return price, bs(type, S, K, T, r, sigma)\n",
        "    except:\n",
        "        print(\"Please confirm option type, either 'c' for Call or 'p' for Put!\")"
      ],
      "metadata": {
        "id": "X_OUKezHJaPy"
      },
      "execution_count": 28,
      "outputs": []
    },
    {
      "cell_type": "code",
      "source": [
        "print(\"Option Price: \", blackScholes(r, S, K, T, sigma, \"c\"))"
      ],
      "metadata": {
        "colab": {
          "base_uri": "https://localhost:8080/"
        },
        "id": "rDo31g3iJh_R",
        "outputId": "7393195a-7483-433d-956e-a4f9ebec7265"
      },
      "execution_count": 4,
      "outputs": [
        {
          "output_type": "stream",
          "name": "stdout",
          "text": [
            "Option Price:  (7.007429753297004, 7.007429753297002)\n"
          ]
        }
      ]
    },
    {
      "cell_type": "code",
      "source": [
        "def delta_calc(r, S, K, T, sigma, type=\"c\"):\n",
        "    \"Calculate delta of an option\"\n",
        "    d1 = (np.log(S/K) + (r + sigma**2/2)*T)/(sigma*np.sqrt(T))\n",
        "    try:\n",
        "        if type == \"c\":\n",
        "            delta_calc = norm.cdf(d1, 0, 1)\n",
        "        elif type == \"p\":\n",
        "            delta_calc = -norm.cdf(-d1, 0, 1)\n",
        "        return delta_calc, delta(type, S, K, T, r, sigma)\n",
        "    except:\n",
        "        print(\"Please confirm option type, either 'c' for Call or 'p' for Put!\")"
      ],
      "metadata": {
        "id": "D-3r7H-eJ6Sp"
      },
      "execution_count": 5,
      "outputs": []
    },
    {
      "cell_type": "code",
      "source": [
        "def gamma_calc(r, S, K, T, sigma, type=\"c\"):\n",
        "    \"Calculate gamma of a option\"\n",
        "    d1 = (np.log(S/K) + (r + sigma**2/2)*T)/(sigma*np.sqrt(T))\n",
        "    d2 = d1 - sigma*np.sqrt(T)\n",
        "    try:\n",
        "        gamma_calc = norm.pdf(d1, 0, 1)/(S*sigma*np.sqrt(T))\n",
        "        return gamma_calc, gamma(type, S, K, T, r, sigma)\n",
        "    except:\n",
        "        print(\"Please confirm option type, either 'c' for Call or 'p' for Put!\")"
      ],
      "metadata": {
        "id": "m19EYHn0J_71"
      },
      "execution_count": 6,
      "outputs": []
    },
    {
      "cell_type": "code",
      "source": [
        "def vega_calc(r, S, K, T, sigma, type=\"c\"):\n",
        "    \"Calculate BS price of call/put\"\n",
        "    d1 = (np.log(S/K) + (r + sigma**2/2)*T)/(sigma*np.sqrt(T))\n",
        "    d2 = d1 - sigma*np.sqrt(T)\n",
        "    try:\n",
        "        vega_calc = S*norm.pdf(d1, 0, 1)*np.sqrt(T)\n",
        "        return vega_calc*0.01, vega(type, S, K, T, r, sigma)\n",
        "    except:\n",
        "        print(\"Please confirm option type, either 'c' for Call or 'p' for Put!\")"
      ],
      "metadata": {
        "id": "_YmK8MlRKB8h"
      },
      "execution_count": 7,
      "outputs": []
    },
    {
      "cell_type": "code",
      "source": [
        "def theta_calc(r, S, K, T, sigma, type=\"c\"):\n",
        "    \"Calculate BS price of call/put\"\n",
        "    d1 = (np.log(S/K) + (r + sigma**2/2)*T)/(sigma*np.sqrt(T))\n",
        "    d2 = d1 - sigma*np.sqrt(T)\n",
        "    try:\n",
        "        if type == \"c\":\n",
        "            theta_calc = -S*norm.pdf(d1, 0, 1)*sigma/(2*np.sqrt(T)) - r*K*np.exp(-r*T)*norm.cdf(d2, 0, 1)\n",
        "        elif type == \"p\":\n",
        "            theta_calc = -S*norm.pdf(d1, 0, 1)*sigma/(2*np.sqrt(T)) + r*K*np.exp(-r*T)*norm.cdf(-d2, 0, 1)\n",
        "        return theta_calc/365, theta(type, S, K, T, r, sigma)\n",
        "    except:\n",
        "        print(\"Please confirm option type, either 'c' for Call or 'p' for Put!\")"
      ],
      "metadata": {
        "id": "VE3ExXV-KFY9"
      },
      "execution_count": 8,
      "outputs": []
    },
    {
      "cell_type": "code",
      "source": [
        "def rho_calc(r, S, K, T, sigma, type=\"c\"):\n",
        "    \"Calculate BS price of call/put\"\n",
        "    d1 = (np.log(S/K) + (r + sigma**2/2)*T)/(sigma*np.sqrt(T))\n",
        "    d2 = d1 - sigma*np.sqrt(T)\n",
        "    try:\n",
        "        if type == \"c\":\n",
        "            rho_calc = K*T*np.exp(-r*T)*norm.cdf(d2, 0, 1)\n",
        "        elif type == \"p\":\n",
        "            rho_calc = -K*T*np.exp(-r*T)*norm.cdf(-d2, 0, 1)\n",
        "        return rho_calc*0.01, rho(type, S, K, T, r, sigma)\n",
        "    except:\n",
        "        print(\"Please confirm option type, either 'c' for Call or 'p' for Put!\")"
      ],
      "metadata": {
        "id": "Woo_3RUTKLgA"
      },
      "execution_count": 9,
      "outputs": []
    },
    {
      "cell_type": "code",
      "source": [
        "option_type='p'\n",
        "\n",
        "print(\"Option Price: \", [round(x,3) for x in blackScholes(r, S, K, T, sigma, option_type)])\n",
        "print(\"       Delta: \", [round(x,3) for x in delta_calc(r, S, K, T, sigma, option_type)])\n",
        "print(\"       Gamma: \", [round(x,3) for x in gamma_calc(r, S, K, T, sigma, option_type)])\n",
        "print(\"       Vega : \", [round(x,3) for x in vega_calc(r, S, K, T, sigma, option_type)])\n",
        "print(\"       Theta: \", [round(x,3) for x in theta_calc(r, S, K, T, sigma, option_type)])\n",
        "print(\"       Rho  : \", [round(x,3) for x in rho_calc(r, S, K, T, sigma, option_type)])"
      ],
      "metadata": {
        "colab": {
          "base_uri": "https://localhost:8080/"
        },
        "id": "uKl0bKJ5KNFB",
        "outputId": "7f0b706a-b0af-4236-b873-14d9fe2fe4d3"
      },
      "execution_count": 10,
      "outputs": [
        {
          "output_type": "stream",
          "name": "stdout",
          "text": [
            "Option Price:  [8.628, 8.628]\n",
            "       Delta:  [-0.493, -0.493]\n",
            "       Gamma:  [0.021, 0.021]\n",
            "       Vega :  [0.129, 0.129]\n",
            "       Theta:  [-0.076, -0.076]\n",
            "       Rho  :  [-0.063, -0.063]\n"
          ]
        }
      ]
    },
    {
      "cell_type": "code",
      "source": [
        "# Define variables\n",
        "r1 = 0.125       # Interest tax\n",
        "S1 = 100         # Stock\n",
        "K1 = 97         # Stirke\n",
        "T1 = 28/252    # Time to end\n",
        "sigma1 = 0.60   # Volatility\n",
        "type1=\"c\""
      ],
      "metadata": {
        "id": "t5MnzeJeWV32"
      },
      "execution_count": 11,
      "outputs": []
    },
    {
      "cell_type": "code",
      "source": [
        "d11 = (np.log(S1/K1) + (r1 + sigma1**2/2)*T1)/(sigma1*np.sqrt(T1))\n",
        "d21 = d11 - sigma1*np.sqrt(T1)"
      ],
      "metadata": {
        "id": "lwHzAA_OWuYC"
      },
      "execution_count": 12,
      "outputs": []
    },
    {
      "cell_type": "code",
      "source": [
        "d11"
      ],
      "metadata": {
        "colab": {
          "base_uri": "https://localhost:8080/"
        },
        "id": "bpX_EuBrW5OC",
        "outputId": "f0bd7dbd-374d-4be6-e9e2-6f401fdcc0df"
      },
      "execution_count": 13,
      "outputs": [
        {
          "output_type": "execute_result",
          "data": {
            "text/plain": [
              "0.32174048186798665"
            ]
          },
          "metadata": {},
          "execution_count": 13
        }
      ]
    },
    {
      "cell_type": "code",
      "source": [
        "type1=\"p\"\n",
        "A=bs(type1, S1, K1, T1, r1, sigma1)\n",
        "A"
      ],
      "metadata": {
        "colab": {
          "base_uri": "https://localhost:8080/"
        },
        "id": "3fSXNWE_VYfv",
        "outputId": "3034ad21-3af9-45b1-9445-2e44cc9c7911"
      },
      "execution_count": 14,
      "outputs": [
        {
          "output_type": "execute_result",
          "data": {
            "text/plain": [
              "5.813969249110002"
            ]
          },
          "metadata": {},
          "execution_count": 14
        }
      ]
    },
    {
      "cell_type": "code",
      "source": [
        "s = np.linspace(95,105,100)\n",
        "#k1 = [90.0,95.0,100.0,105.0, 110.0]\n",
        "#k1 =100"
      ],
      "metadata": {
        "id": "Z63NOnxRT76r"
      },
      "execution_count": 68,
      "outputs": []
    },
    {
      "cell_type": "code",
      "source": [
        "y = blackScholes(r, S, k1, T, sigma, \"c\")\n",
        "y"
      ],
      "metadata": {
        "colab": {
          "base_uri": "https://localhost:8080/"
        },
        "id": "wUb9Xt0baAEP",
        "outputId": "f6d98a72-0795-4b25-f116-251fd1cea6fc"
      },
      "execution_count": 48,
      "outputs": [
        {
          "output_type": "execute_result",
          "data": {
            "text/plain": [
              "(7.007429753297004, 7.007429753297002)"
            ]
          },
          "metadata": {},
          "execution_count": 48
        }
      ]
    },
    {
      "cell_type": "code",
      "source": [
        "def divisão (n1,n2):\n",
        "  y = n1/n2\n",
        "  return y"
      ],
      "metadata": {
        "id": "EUwnmx_Kj48Q"
      },
      "execution_count": 50,
      "outputs": []
    },
    {
      "cell_type": "code",
      "source": [
        "resultado = divisão(8,2)\n",
        "print(resultado)\n",
        "type(resultado)"
      ],
      "metadata": {
        "colab": {
          "base_uri": "https://localhost:8080/"
        },
        "id": "NKrlLqBmkEAl",
        "outputId": "34247712-c841-4ac3-e22f-41c3ed99c6c9"
      },
      "execution_count": 59,
      "outputs": [
        {
          "output_type": "stream",
          "name": "stdout",
          "text": [
            "4.0\n"
          ]
        },
        {
          "output_type": "execute_result",
          "data": {
            "text/plain": [
              "float"
            ]
          },
          "metadata": {},
          "execution_count": 59
        }
      ]
    },
    {
      "cell_type": "code",
      "source": [
        "def blackScholes1(r, S, K, T, sigma, type=\"c\"):\n",
        "    \"Calculate BS price of call/put\"\n",
        "    d1 = (np.log(S/K) + (r + sigma**2/2)*T)/(sigma*np.sqrt(T))\n",
        "    d2 = d1 - sigma*np.sqrt(T)\n",
        "    try:\n",
        "        if type == \"c\":\n",
        "            price = S*norm.cdf(d1, 0, 1) - K*np.exp(-r*T)*norm.cdf(d2, 0, 1)\n",
        "        elif type == \"p\":\n",
        "            price = K*np.exp(-r*T)*norm.cdf(-d2, 0, 1) - S*norm.cdf(-d1, 0, 1)\n",
        "        return price\n",
        "    except:\n",
        "        print(\"Please confirm option type, either 'c' for Call or 'p' for Put!\")"
      ],
      "metadata": {
        "id": "M3lUxME0pJz5"
      },
      "execution_count": 69,
      "outputs": []
    },
    {
      "cell_type": "code",
      "source": [
        "s = np.linspace(75,125,100)\n",
        "T = 0.2/252"
      ],
      "metadata": {
        "id": "2KslqegvqwfJ"
      },
      "execution_count": 80,
      "outputs": []
    },
    {
      "cell_type": "code",
      "source": [
        "y = blackScholes1(r, S, s, T, sigma,\"c\")"
      ],
      "metadata": {
        "id": "iaYKr5Ospb_j"
      },
      "execution_count": 81,
      "outputs": []
    },
    {
      "cell_type": "code",
      "source": [
        "# Gerar o gráfico\n",
        "plt.plot(s,y)\n",
        "plt.grid()\n",
        "plt.xlabel('Strike')\n",
        "plt.ylabel('Prêmio')\n",
        "plt.show()"
      ],
      "metadata": {
        "colab": {
          "base_uri": "https://localhost:8080/",
          "height": 449
        },
        "id": "i5K8MYcRqlPp",
        "outputId": "cd53475a-3c38-4808-bec4-a745d6fabba2"
      },
      "execution_count": 82,
      "outputs": [
        {
          "output_type": "display_data",
          "data": {
            "text/plain": [
              "<Figure size 640x480 with 1 Axes>"
            ],
            "image/png": "[encoded data removed]"
          },
          "metadata": {}
        }
      ]
    },
    {
      "cell_type": "code",
      "source": [
        "# Solução de BS para diferentes prazos\n",
        "for Ti in [20/252,10/252,3.0/252,0.1/252]:\n",
        "  y = blackScholes1(r, S, s, Ti, sigma,\"c\")\n",
        "  plt.plot(s,y,label=r'T$_0$='+str(Ti*252))\n",
        "\n",
        "plt.axvline(S,0,10)\n",
        "plt.grid()\n",
        "plt.legend()\n",
        "plt.xlabel('t')\n",
        "plt.ylabel('y(t)')\n",
        "plt.show()"
      ],
      "metadata": {
        "id": "NrxbDo6tsYKX",
        "outputId": "9ba34436-7447-4695-a4ba-80b807f987fa",
        "colab": {
          "base_uri": "https://localhost:8080/",
          "height": 449
        }
      },
      "execution_count": 88,
      "outputs": [
        {
          "output_type": "display_data",
          "data": {
            "text/plain": [
              "<Figure size 640x480 with 1 Axes>"
            ],
            "image/png": "[encoded data removed]"
          },
          "metadata": {}
        }
      ]
    }
  ]
}